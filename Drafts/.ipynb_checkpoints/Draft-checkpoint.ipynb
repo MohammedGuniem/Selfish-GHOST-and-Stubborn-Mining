{
 "cells": [
  {
   "cell_type": "code",
   "execution_count": null,
   "id": "6ea3372e",
   "metadata": {},
   "outputs": [],
   "source": [
    "    \"\"\" \n",
    "    selfish_profit, honest_profit = simulate_selfish_mining(bc, honest_miners, selfish_miners)\n",
    "    selfish_profits.append(selfish_profit)\n",
    "    honest_profits.append(honest_profit)\n",
    "    \n",
    "    if output:\n",
    "        print(f\"Honest profit: {honest_profit}\")\n",
    "        print(f\"Selfish profit: {selfish_profit}\")\n",
    "        print(f\"Total profit: {selfish_profit+honest_profit}\")\n",
    "        print()\n",
    "    \"\"\""
   ]
  },
  {
   "cell_type": "code",
   "execution_count": 1,
   "id": "31f5931a",
   "metadata": {},
   "outputs": [
    {
     "ename": "NameError",
     "evalue": "name 'total_mining_power' is not defined",
     "output_type": "error",
     "traceback": [
      "\u001b[1;31m---------------------------------------------------------------------------\u001b[0m",
      "\u001b[1;31mNameError\u001b[0m                                 Traceback (most recent call last)",
      "\u001b[1;32m<ipython-input-1-6680eb47c5d7>\u001b[0m in \u001b[0;36m<module>\u001b[1;34m\u001b[0m\n\u001b[0;32m      1\u001b[0m \u001b[1;31m# Calculating the mining hash rate\u001b[0m\u001b[1;33m\u001b[0m\u001b[1;33m\u001b[0m\u001b[1;33m\u001b[0m\u001b[0m\n\u001b[1;32m----> 2\u001b[1;33m \u001b[0mprint\u001b[0m\u001b[1;33m(\u001b[0m\u001b[1;34mf\"Total mining power: {total_mining_power}\"\u001b[0m\u001b[1;33m)\u001b[0m\u001b[1;33m\u001b[0m\u001b[1;33m\u001b[0m\u001b[0m\n\u001b[0m\u001b[0;32m      3\u001b[0m \u001b[1;33m\u001b[0m\u001b[0m\n\u001b[0;32m      4\u001b[0m \u001b[1;32mfor\u001b[0m \u001b[0mminer\u001b[0m \u001b[1;32min\u001b[0m \u001b[0mminers\u001b[0m\u001b[1;33m:\u001b[0m\u001b[1;33m\u001b[0m\u001b[1;33m\u001b[0m\u001b[0m\n\u001b[0;32m      5\u001b[0m     \u001b[0mprint\u001b[0m\u001b[1;33m(\u001b[0m\u001b[1;34mf\"The percentage of mining power (alpha) for {miner.name}: \"\u001b[0m\u001b[1;33m,\u001b[0m \u001b[0mminer\u001b[0m\u001b[1;33m.\u001b[0m\u001b[0mminingPower\u001b[0m\u001b[1;33m/\u001b[0m\u001b[0mtotal_mining_power\u001b[0m\u001b[1;33m)\u001b[0m\u001b[1;33m\u001b[0m\u001b[1;33m\u001b[0m\u001b[0m\n",
      "\u001b[1;31mNameError\u001b[0m: name 'total_mining_power' is not defined"
     ]
    }
   ],
   "source": [
    "# Calculating the mining hash rate\n",
    "print(f\"Total mining power: {total_mining_power}\")\n",
    "\n",
    "for miner in miners:\n",
    "    print(f\"The percentage of mining power (alpha) for {miner.name}: \", miner.miningPower/total_mining_power)\n",
    "\n",
    "for miner in selfish_miners:\n",
    "    print(f\"The percentage of mining power (alpha) for {miner.name}: \", miner.miningPower/total_mining_power)\n",
    "\n",
    "print()\n",
    "\n",
    "print(\"****************************** Resulted Profit Power ******************************\")\n",
    "print()\n",
    "# Determine how many blocks each miner has in the blockchain\n",
    "for miner in miners:\n",
    "    print(f\"{miner.name} has: {bc.checkMiner(miner)} blocks in the block chain\")\n",
    "\n",
    "for miner in selfish_miners:\n",
    "    print(f\"{miner.name} has: {bc.checkMiner(miner)} blocks in the block chain\")\n",
    "print()\n",
    "\n",
    "# Get the height of the longest (public) blockchain\n",
    "bc_height = bc.longestChain().height\n",
    "print(f\"The length of the longest blockchain is {bc_height} blocks.\")\n",
    "print()\n",
    "\n",
    "for miner in miners:\n",
    "    percentage_of_miner_blocks = bc.checkMiner(miner)/ bc_height\n",
    "    print(f\"The Percentage of blocks mined by {miner.name} is {percentage_of_miner_blocks}\")\n",
    "for miner in selfish_miners:\n",
    "    percentage_of_miner_blocks = bc.checkMiner(miner)/ bc_height\n",
    "    print(f\"The Percentage of blocks mined by {miner.name} is {percentage_of_miner_blocks}\")\n",
    "\n",
    "# Gamma is the ratio of the honest miners who decides to mine on top of the blocks of the selfish miner.\n",
    "for miner in miners:\n",
    "    gamma = bc.gammaMiner(miner) #/ bc_height\n",
    "    print(f\"Gamma for {miner.name} is {gamma}\")\n",
    "for miner in selfish_miners:\n",
    "    gamma = bc.gammaMiner(miner) #/ bc_height\n",
    "    print(f\"Gamma for {miner.name} is {gamma}\")\n"
   ]
  }
 ],
 "metadata": {
  "kernelspec": {
   "display_name": "Python 3",
   "language": "python",
   "name": "python3"
  },
  "language_info": {
   "codemirror_mode": {
    "name": "ipython",
    "version": 3
   },
   "file_extension": ".py",
   "mimetype": "text/x-python",
   "name": "python",
   "nbconvert_exporter": "python",
   "pygments_lexer": "ipython3",
   "version": "3.8.8"
  }
 },
 "nbformat": 4,
 "nbformat_minor": 5
}
