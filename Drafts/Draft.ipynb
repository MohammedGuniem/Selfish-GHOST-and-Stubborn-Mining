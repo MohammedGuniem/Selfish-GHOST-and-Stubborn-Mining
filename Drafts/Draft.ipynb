{
 "cells": [
  {
   "cell_type": "code",
   "execution_count": null,
   "id": "31f5931a",
   "metadata": {},
   "outputs": [],
   "source": [
    "# Calculating the mining hash rate\n",
    "print(f\"Total mining power: {total_mining_power}\")\n",
    "\n",
    "for miner in miners:\n",
    "    print(f\"The percentage of mining power (alpha) for {miner.name}: \", miner.miningPower/total_mining_power)\n",
    "\n",
    "for miner in selfish_miners:\n",
    "    print(f\"The percentage of mining power (alpha) for {miner.name}: \", miner.miningPower/total_mining_power)\n",
    "\n",
    "print()\n",
    "\n",
    "print(\"****************************** Resulted Profit Power ******************************\")\n",
    "print()\n",
    "# Determine how many blocks each miner has in the blockchain\n",
    "for miner in miners:\n",
    "    print(f\"{miner.name} has: {bc.checkMiner(miner)} blocks in the block chain\")\n",
    "\n",
    "for miner in selfish_miners:\n",
    "    print(f\"{miner.name} has: {bc.checkMiner(miner)} blocks in the block chain\")\n",
    "print()\n",
    "\n",
    "# Get the height of the longest (public) blockchain\n",
    "bc_height = bc.longestChain().height\n",
    "print(f\"The length of the longest blockchain is {bc_height} blocks.\")\n",
    "print()\n",
    "\n",
    "for miner in miners:\n",
    "    percentage_of_miner_blocks = bc.checkMiner(miner)/ bc_height\n",
    "    print(f\"The Percentage of blocks mined by {miner.name} is {percentage_of_miner_blocks}\")\n",
    "for miner in selfish_miners:\n",
    "    percentage_of_miner_blocks = bc.checkMiner(miner)/ bc_height\n",
    "    print(f\"The Percentage of blocks mined by {miner.name} is {percentage_of_miner_blocks}\")\n",
    "\n",
    "# Gamma is the ratio of the honest miners who decides to mine on top of the blocks of the selfish miner.\n",
    "for miner in miners:\n",
    "    gamma = bc.gammaMiner(miner) #/ bc_height\n",
    "    print(f\"Gamma for {miner.name} is {gamma}\")\n",
    "for miner in selfish_miners:\n",
    "    gamma = bc.gammaMiner(miner) #/ bc_height\n",
    "    print(f\"Gamma for {miner.name} is {gamma}\")\n"
   ]
  }
 ],
 "metadata": {
  "kernelspec": {
   "display_name": "Python 3",
   "language": "python",
   "name": "python3"
  },
  "language_info": {
   "codemirror_mode": {
    "name": "ipython",
    "version": 3
   },
   "file_extension": ".py",
   "mimetype": "text/x-python",
   "name": "python",
   "nbconvert_exporter": "python",
   "pygments_lexer": "ipython3",
   "version": "3.8.8"
  }
 },
 "nbformat": 4,
 "nbformat_minor": 5
}
